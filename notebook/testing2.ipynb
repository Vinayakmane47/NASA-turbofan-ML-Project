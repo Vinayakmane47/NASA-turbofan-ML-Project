{
 "cells": [
  {
   "cell_type": "code",
   "execution_count": 1,
   "metadata": {},
   "outputs": [
    {
     "data": {
      "text/plain": [
       "'c:\\\\Users\\\\manev\\\\Desktop\\\\iNeuron\\\\ML_PROJECTS\\\\NASA-turbofan-ML-Project\\\\notebook'"
      ]
     },
     "execution_count": 1,
     "metadata": {},
     "output_type": "execute_result"
    }
   ],
   "source": [
    "import os \n",
    "os.getcwd()"
   ]
  },
  {
   "cell_type": "code",
   "execution_count": 2,
   "metadata": {},
   "outputs": [],
   "source": [
    "os.chdir(\"c:\\\\Users\\\\manev\\\\Desktop\\\\iNeuron\\\\ML_PROJECTS\\\\NASA-turbofan-ML-Project\")"
   ]
  },
  {
   "cell_type": "code",
   "execution_count": 3,
   "metadata": {},
   "outputs": [
    {
     "data": {
      "text/plain": [
       "'c:\\\\Users\\\\manev\\\\Desktop\\\\iNeuron\\\\ML_PROJECTS\\\\NASA-turbofan-ML-Project'"
      ]
     },
     "execution_count": 3,
     "metadata": {},
     "output_type": "execute_result"
    }
   ],
   "source": [
    "os.getcwd()"
   ]
  },
  {
   "cell_type": "code",
   "execution_count": 4,
   "metadata": {},
   "outputs": [],
   "source": [
    "from Turbofan.config.configuration import Configuration \n",
    "from Turbofan.constant import *"
   ]
  },
  {
   "cell_type": "code",
   "execution_count": 5,
   "metadata": {},
   "outputs": [
    {
     "data": {
      "text/plain": [
       "'c:\\\\Users\\\\manev\\\\Desktop\\\\iNeuron\\\\ML_PROJECTS\\\\NASA-turbofan-ML-Project\\\\config\\\\config.yaml'"
      ]
     },
     "execution_count": 5,
     "metadata": {},
     "output_type": "execute_result"
    }
   ],
   "source": [
    "CONFIG_FILE_PATH"
   ]
  },
  {
   "cell_type": "code",
   "execution_count": 6,
   "metadata": {},
   "outputs": [],
   "source": [
    "config = Configuration(config_file_path=CONFIG_FILE_PATH , current_time_stamp=CURRENT_TIME_STAMP)"
   ]
  },
  {
   "cell_type": "code",
   "execution_count": 7,
   "metadata": {},
   "outputs": [],
   "source": [
    "from Turbofan.pipeline.pipeline import Pipeline"
   ]
  },
  {
   "cell_type": "code",
   "execution_count": 8,
   "metadata": {},
   "outputs": [],
   "source": [
    "pipeline = Pipeline(config=config)"
   ]
  },
  {
   "cell_type": "code",
   "execution_count": 9,
   "metadata": {},
   "outputs": [],
   "source": [
    "data_ingestion_artifact = pipeline.start_data_ingestion()\n",
    "data_validation_artifact = pipeline.start_data_validation(data_ingestion_artifact=data_ingestion_artifact)\n"
   ]
  },
  {
   "cell_type": "code",
   "execution_count": 10,
   "metadata": {},
   "outputs": [],
   "source": [
    "data_transformation_artifact = pipeline.start_data_transformation(data_validation_artifact= data_validation_artifact, \n",
    "                                       data_ingestion_artifact=data_ingestion_artifact )\n",
    "\n"
   ]
  },
  {
   "cell_type": "code",
   "execution_count": 11,
   "metadata": {},
   "outputs": [
    {
     "data": {
      "text/plain": [
       "DataTransformationArtifact(is_transformed=True, message='Data transformation successfull.', transformed_train_file_path='c:\\\\Users\\\\manev\\\\Desktop\\\\iNeuron\\\\ML_PROJECTS\\\\NASA-turbofan-ML-Project\\\\Turbofan\\\\artifact\\\\data_transformation\\\\2022-10-09-21-24-25\\\\train\\\\train_FD001.npz', transformed_test_file_path='c:\\\\Users\\\\manev\\\\Desktop\\\\iNeuron\\\\ML_PROJECTS\\\\NASA-turbofan-ML-Project\\\\Turbofan\\\\artifact\\\\data_transformation\\\\2022-10-09-21-24-25\\\\test\\\\test_FD001.npz', preprocessed_object_file_path='c:\\\\Users\\\\manev\\\\Desktop\\\\iNeuron\\\\ML_PROJECTS\\\\NASA-turbofan-ML-Project\\\\Turbofan\\\\artifact\\\\data_transformation\\\\2022-10-09-21-24-25\\\\preprocessed\\\\preprocced.pkl')"
      ]
     },
     "execution_count": 11,
     "metadata": {},
     "output_type": "execute_result"
    }
   ],
   "source": [
    "data_transformation_artifact"
   ]
  },
  {
   "cell_type": "code",
   "execution_count": 12,
   "metadata": {},
   "outputs": [
    {
     "name": "stdout",
     "output_type": "stream",
     "text": [
      "{'fit_intercept': True}\n",
      "{'kernel': 'linear'}\n",
      "{'cv': 5, 'verbose': 2}\n",
      "Fitting 5 folds for each of 2 candidates, totalling 10 fits\n",
      "[CV] END .................................fit_intercept=True; total time=   0.8s\n",
      "[CV] END .................................fit_intercept=True; total time=   0.0s\n",
      "[CV] END .................................fit_intercept=True; total time=   0.0s\n",
      "[CV] END .................................fit_intercept=True; total time=   0.0s\n",
      "[CV] END .................................fit_intercept=True; total time=   0.0s\n",
      "[CV] END ................................fit_intercept=False; total time=   0.0s\n",
      "[CV] END ................................fit_intercept=False; total time=   0.0s\n",
      "[CV] END ................................fit_intercept=False; total time=   0.0s\n",
      "[CV] END ................................fit_intercept=False; total time=   0.0s\n",
      "[CV] END ................................fit_intercept=False; total time=   0.0s\n",
      "{'cv': 5, 'verbose': 2}\n",
      "Fitting 5 folds for each of 4 candidates, totalling 20 fits\n",
      "[CV] END ............................degree=2, kernel=linear; total time=  43.4s\n",
      "[CV] END ............................degree=2, kernel=linear; total time=  28.0s\n",
      "[CV] END ............................degree=2, kernel=linear; total time=  27.5s\n",
      "[CV] END ............................degree=2, kernel=linear; total time=  27.3s\n",
      "[CV] END ............................degree=2, kernel=linear; total time=  28.9s\n",
      "[CV] END ..............................degree=2, kernel=poly; total time=  23.2s\n",
      "[CV] END ..............................degree=2, kernel=poly; total time=  29.3s\n",
      "[CV] END ..............................degree=2, kernel=poly; total time=  24.5s\n",
      "[CV] END ..............................degree=2, kernel=poly; total time=  24.9s\n",
      "[CV] END ..............................degree=2, kernel=poly; total time=  24.1s\n",
      "[CV] END ............................degree=3, kernel=linear; total time=  25.4s\n",
      "[CV] END ............................degree=3, kernel=linear; total time=  26.0s\n",
      "[CV] END ............................degree=3, kernel=linear; total time=  25.4s\n",
      "[CV] END ............................degree=3, kernel=linear; total time=  27.5s\n",
      "[CV] END ............................degree=3, kernel=linear; total time=  29.1s\n",
      "[CV] END ..............................degree=3, kernel=poly; total time=  31.1s\n",
      "[CV] END ..............................degree=3, kernel=poly; total time=  27.4s\n",
      "[CV] END ..............................degree=3, kernel=poly; total time=  28.0s\n",
      "[CV] END ..............................degree=3, kernel=poly; total time=  28.1s\n",
      "[CV] END ..............................degree=3, kernel=poly; total time=  28.1s\n"
     ]
    }
   ],
   "source": [
    "model_trainer_artifact = pipeline.start_model_trainer(data_transformation_artifact=data_transformation_artifact)"
   ]
  },
  {
   "cell_type": "code",
   "execution_count": 13,
   "metadata": {},
   "outputs": [
    {
     "data": {
      "text/plain": [
       "ModelTrainerArtifact(is_trained=True, message='Model Trained Succesfully ', trained_model_file_path='c:\\\\Users\\\\manev\\\\Desktop\\\\iNeuron\\\\ML_PROJECTS\\\\NASA-turbofan-ML-Project\\\\Turbofan\\\\artifact\\\\model_trainer\\\\2022-10-09-21-24-25\\\\trained_model\\\\model.pkl', train_rmse=36.65129622063291, test_rmse=24.955212336258057, train_accuracy=0.7168601711223339, test_accuracy=0.6393690509418162, model_accuracy=0.675900798791069)"
      ]
     },
     "execution_count": 13,
     "metadata": {},
     "output_type": "execute_result"
    }
   ],
   "source": [
    "model_trainer_artifact"
   ]
  },
  {
   "cell_type": "code",
   "execution_count": null,
   "metadata": {},
   "outputs": [],
   "source": []
  },
  {
   "cell_type": "code",
   "execution_count": 14,
   "metadata": {},
   "outputs": [],
   "source": [
    "model_eval_file_path = config.get_model_evaluation_config().model_evaluation_file_path"
   ]
  },
  {
   "cell_type": "code",
   "execution_count": 15,
   "metadata": {},
   "outputs": [],
   "source": [
    "model_evaluation_artifact = pipeline.start_model_evaluation(data_ingestion_artifact=data_ingestion_artifact,\n",
    "                                                            data_validation_artifact=data_validation_artifact, \n",
    "                                                            model_trainer_artifcat=model_trainer_artifact)\n",
    "                                                            "
   ]
  },
  {
   "cell_type": "code",
   "execution_count": 16,
   "metadata": {},
   "outputs": [],
   "source": [
    "model_pusher_artifact = pipeline.start_model_pusher(model_evaluation_artifact=model_evaluation_artifact)"
   ]
  },
  {
   "cell_type": "code",
   "execution_count": 17,
   "metadata": {},
   "outputs": [
    {
     "data": {
      "text/plain": [
       "'c:\\\\Users\\\\manev\\\\Desktop\\\\iNeuron\\\\ML_PROJECTS\\\\NASA-turbofan-ML-Project\\\\Turbofan\\\\artifact\\\\data_transformation\\\\2022-10-09-21-24-25\\\\train\\\\train_FD001.npz'"
      ]
     },
     "execution_count": 17,
     "metadata": {},
     "output_type": "execute_result"
    }
   ],
   "source": [
    "data_transformation_artifact.transformed_train_file_path"
   ]
  },
  {
   "cell_type": "code",
   "execution_count": 26,
   "metadata": {},
   "outputs": [
    {
     "data": {
      "text/plain": [
       "ModelEvaluationArtifact(is_model_accepted=True, evaluated_model_path='c:\\\\Users\\\\manev\\\\Desktop\\\\iNeuron\\\\ML_PROJECTS\\\\NASA-turbofan-ML-Project\\\\Turbofan\\\\artifact\\\\model_trainer\\\\2022-10-09-21-24-25\\\\trained_model\\\\model.pkl')"
      ]
     },
     "execution_count": 26,
     "metadata": {},
     "output_type": "execute_result"
    }
   ],
   "source": [
    "model_evaluation_artifact"
   ]
  },
  {
   "cell_type": "code",
   "execution_count": 18,
   "metadata": {},
   "outputs": [],
   "source": [
    "from Turbofan.util.util import read_yaml_file\n",
    "\n",
    "\n",
    "model_eval_content = read_yaml_file(file_path=model_eval_file_path)"
   ]
  },
  {
   "cell_type": "code",
   "execution_count": 19,
   "metadata": {},
   "outputs": [
    {
     "data": {
      "text/plain": [
       "'c:\\\\Users\\\\manev\\\\Desktop\\\\iNeuron\\\\ML_PROJECTS\\\\NASA-turbofan-ML-Project\\\\Turbofan\\\\artifact\\\\model_trainer\\\\2022-10-09-21-24-25\\\\trained_model\\\\model.pkl'"
      ]
     },
     "execution_count": 19,
     "metadata": {},
     "output_type": "execute_result"
    }
   ],
   "source": [
    "model_eval_content[BEST_MODEL_KEY][MODEL_PATH_KEY]"
   ]
  },
  {
   "cell_type": "code",
   "execution_count": 20,
   "metadata": {},
   "outputs": [],
   "source": [
    "from Turbofan.component.model_trainer import TurboPredictor\n",
    "from Turbofan.util.util import load_object\n",
    "\n",
    "\n",
    "model:TurboPredictor = load_object(model_eval_content[BEST_MODEL_KEY][MODEL_PATH_KEY])"
   ]
  },
  {
   "cell_type": "code",
   "execution_count": 21,
   "metadata": {},
   "outputs": [
    {
     "data": {
      "text/plain": [
       "Turbofan.component.model_trainer.TurboPredictor"
      ]
     },
     "execution_count": 21,
     "metadata": {},
     "output_type": "execute_result"
    }
   ],
   "source": [
    "type(model)"
   ]
  },
  {
   "cell_type": "code",
   "execution_count": 22,
   "metadata": {},
   "outputs": [
    {
     "data": {
      "text/plain": [
       "ModelPusherArtifact(is_model_pusher=True, export_model_file_path='c:\\\\Users\\\\manev\\\\Desktop\\\\iNeuron\\\\ML_PROJECTS\\\\NASA-turbofan-ML-Project\\\\saved_models\\\\20221009213853\\\\model.pkl')"
      ]
     },
     "execution_count": 22,
     "metadata": {},
     "output_type": "execute_result"
    }
   ],
   "source": [
    "model_pusher_artifact"
   ]
  },
  {
   "cell_type": "code",
   "execution_count": 9,
   "metadata": {},
   "outputs": [],
   "source": [
    "from Turbofan.pipeline.pipeline import Pipeline"
   ]
  },
  {
   "cell_type": "code",
   "execution_count": 29,
   "metadata": {},
   "outputs": [
    {
     "data": {
      "text/plain": [
       "'c:\\\\Users\\\\manev\\\\Desktop\\\\iNeuron\\\\ML_PROJECTS\\\\NASA-turbofan-ML-Project\\\\Turbofan\\\\artifact\\\\model_trainer\\\\2022-10-09-21-24-25\\\\trained_model\\\\model.pkl'"
      ]
     },
     "execution_count": 29,
     "metadata": {},
     "output_type": "execute_result"
    }
   ],
   "source": [
    "model_evaluation_artifact.evaluated_model_path"
   ]
  },
  {
   "cell_type": "code",
   "execution_count": 10,
   "metadata": {},
   "outputs": [
    {
     "name": "stdout",
     "output_type": "stream",
     "text": [
      "{'fit_intercept': True}\n",
      "{'kernel': 'linear'}\n",
      "{'cv': 5, 'verbose': 2}\n",
      "Fitting 5 folds for each of 2 candidates, totalling 10 fits\n",
      "[CV] END .................................fit_intercept=True; total time=   0.3s\n",
      "[CV] END .................................fit_intercept=True; total time=   0.0s\n",
      "[CV] END .................................fit_intercept=True; total time=   0.0s\n",
      "[CV] END .................................fit_intercept=True; total time=   0.0s\n",
      "[CV] END .................................fit_intercept=True; total time=   0.0s\n",
      "[CV] END ................................fit_intercept=False; total time=   0.0s\n",
      "[CV] END ................................fit_intercept=False; total time=   0.0s\n",
      "[CV] END ................................fit_intercept=False; total time=   0.0s\n",
      "[CV] END ................................fit_intercept=False; total time=   0.0s\n",
      "[CV] END ................................fit_intercept=False; total time=   0.0s\n",
      "{'cv': 5, 'verbose': 2}\n",
      "Fitting 5 folds for each of 4 candidates, totalling 20 fits\n",
      "[CV] END ............................degree=2, kernel=linear; total time=  43.3s\n",
      "[CV] END ............................degree=2, kernel=linear; total time=  27.7s\n",
      "[CV] END ............................degree=2, kernel=linear; total time=  27.7s\n",
      "[CV] END ............................degree=2, kernel=linear; total time=  28.8s\n",
      "[CV] END ............................degree=2, kernel=linear; total time=  28.2s\n",
      "[CV] END ..............................degree=2, kernel=poly; total time=  25.0s\n",
      "[CV] END ..............................degree=2, kernel=poly; total time=  24.7s\n",
      "[CV] END ..............................degree=2, kernel=poly; total time=  25.4s\n",
      "[CV] END ..............................degree=2, kernel=poly; total time=  25.7s\n",
      "[CV] END ..............................degree=2, kernel=poly; total time=  25.4s\n",
      "[CV] END ............................degree=3, kernel=linear; total time=  27.6s\n",
      "[CV] END ............................degree=3, kernel=linear; total time=  27.5s\n",
      "[CV] END ............................degree=3, kernel=linear; total time=  27.9s\n",
      "[CV] END ............................degree=3, kernel=linear; total time=  28.8s\n",
      "[CV] END ............................degree=3, kernel=linear; total time=  27.8s\n",
      "[CV] END ..............................degree=3, kernel=poly; total time=  28.6s\n",
      "[CV] END ..............................degree=3, kernel=poly; total time=  27.6s\n",
      "[CV] END ..............................degree=3, kernel=poly; total time=  29.2s\n",
      "[CV] END ..............................degree=3, kernel=poly; total time=  29.3s\n",
      "[CV] END ..............................degree=3, kernel=poly; total time=  28.8s\n"
     ]
    }
   ],
   "source": [
    "pipeline = Pipeline(config=config)\n",
    "experiment_artifact = pipeline.run()"
   ]
  },
  {
   "cell_type": "code",
   "execution_count": null,
   "metadata": {},
   "outputs": [],
   "source": [
    "experiment_artifact"
   ]
  },
  {
   "cell_type": "code",
   "execution_count": 8,
   "metadata": {},
   "outputs": [],
   "source": [
    "ROOT_DIR = os.getcwd()\n",
    "LOG_FOLDER_NAME = \"Turbofan_logs\"\n",
    "PIPELINE_FOLDER_NAME = \"Turbofan\"\n",
    "SAVED_MODELS_DIR_NAME = \"saved_models\"\n",
    "MODEL_CONFIG_FILE_PATH = os.path.join(ROOT_DIR, CONFIG_DIR, \"model.yaml\")\n",
    "LOG_DIR = os.path.join(ROOT_DIR, LOG_FOLDER_NAME)\n",
    "PIPELINE_DIR = os.path.join(ROOT_DIR, PIPELINE_FOLDER_NAME)\n",
    "MODEL_DIR = os.path.join(ROOT_DIR, SAVED_MODELS_DIR_NAME)\n",
    "TURBOFAN_DATA_KEY = \"Turbofan_data\"\n",
    "RUL_VALUE_KEY = \"RUL\""
   ]
  },
  {
   "cell_type": "code",
   "execution_count": 9,
   "metadata": {},
   "outputs": [],
   "source": [
    "from Turbofan.entity.Turbofan_predictor import TurbofanPredictor"
   ]
  },
  {
   "cell_type": "code",
   "execution_count": null,
   "metadata": {},
   "outputs": [],
   "source": []
  },
  {
   "cell_type": "code",
   "execution_count": 10,
   "metadata": {},
   "outputs": [],
   "source": [
    "Turbofan = TurbofanPredictor(model_dir=MODEL_DIR)"
   ]
  },
  {
   "cell_type": "code",
   "execution_count": 11,
   "metadata": {},
   "outputs": [],
   "source": [
    "import numpy as np \n"
   ]
  },
  {
   "cell_type": "code",
   "execution_count": 12,
   "metadata": {},
   "outputs": [],
   "source": [
    "list1 = [1,31,642.58,1581.22,1398.91,554.42,2388.08,9056.4,47.23,521.79,2388.06,8130.11,8.4024,393,38.81,23.3552]"
   ]
  },
  {
   "cell_type": "code",
   "execution_count": 13,
   "metadata": {},
   "outputs": [],
   "source": [
    "x_sample = np.array(list1)\n",
    "#x_sample = x_sample.reshape(1,16)"
   ]
  },
  {
   "cell_type": "code",
   "execution_count": 14,
   "metadata": {},
   "outputs": [
    {
     "data": {
      "text/plain": [
       "(16,)"
      ]
     },
     "execution_count": 14,
     "metadata": {},
     "output_type": "execute_result"
    }
   ],
   "source": [
    "x_sample.shape"
   ]
  },
  {
   "cell_type": "code",
   "execution_count": 15,
   "metadata": {},
   "outputs": [
    {
     "name": "stdout",
     "output_type": "stream",
     "text": [
      "[1, 31, 642.58, 1581.22, 1398.91, 554.42, 2388.08, 9056.4, 47.23, 521.79, 2388.06, 8130.11, 8.4024, 393, 38.81, 23.3552]\n"
     ]
    }
   ],
   "source": [
    "print(list1)"
   ]
  },
  {
   "cell_type": "code",
   "execution_count": 16,
   "metadata": {},
   "outputs": [],
   "source": [
    "input_data = {\n",
    "            \"engineNumber\": [1],\n",
    "            \"cycleNumber\": [31] ,\n",
    "            \"sensor2\" : [642.58] ,\n",
    "           \" sensor3\" : [1581.22] ,\n",
    "            \"sensor4\" : [1398.91] , \n",
    "            \"sensor7\" : [554.42] ,\n",
    "            \"sensor8\" : [2388.08], \n",
    "            \"sensor9\" : [9056.4] ,\n",
    "            \"sensor11\" : [47.23],\n",
    "            \"sensor12\" : [521.79] ,\n",
    "            \"sensor13\" : [2388.06],\n",
    "            \"sensor14\" : [8130.11] ,\n",
    "            \"sensor15\" : [8.4024],\n",
    "            \"sensor17\" : [393],\n",
    "            \"sensor20\" : [38.81] ,\n",
    "            \"sensor21\" : [23.3552]}"
   ]
  },
  {
   "cell_type": "code",
   "execution_count": 17,
   "metadata": {},
   "outputs": [
    {
     "data": {
      "text/html": [
       "<div>\n",
       "<style scoped>\n",
       "    .dataframe tbody tr th:only-of-type {\n",
       "        vertical-align: middle;\n",
       "    }\n",
       "\n",
       "    .dataframe tbody tr th {\n",
       "        vertical-align: top;\n",
       "    }\n",
       "\n",
       "    .dataframe thead th {\n",
       "        text-align: right;\n",
       "    }\n",
       "</style>\n",
       "<table border=\"1\" class=\"dataframe\">\n",
       "  <thead>\n",
       "    <tr style=\"text-align: right;\">\n",
       "      <th></th>\n",
       "      <th>engineNumber</th>\n",
       "      <th>cycleNumber</th>\n",
       "      <th>sensor2</th>\n",
       "      <th>sensor3</th>\n",
       "      <th>sensor4</th>\n",
       "      <th>sensor7</th>\n",
       "      <th>sensor8</th>\n",
       "      <th>sensor9</th>\n",
       "      <th>sensor11</th>\n",
       "      <th>sensor12</th>\n",
       "      <th>sensor13</th>\n",
       "      <th>sensor14</th>\n",
       "      <th>sensor15</th>\n",
       "      <th>sensor17</th>\n",
       "      <th>sensor20</th>\n",
       "      <th>sensor21</th>\n",
       "    </tr>\n",
       "  </thead>\n",
       "  <tbody>\n",
       "    <tr>\n",
       "      <th>0</th>\n",
       "      <td>1</td>\n",
       "      <td>31</td>\n",
       "      <td>642.58</td>\n",
       "      <td>1581.22</td>\n",
       "      <td>1398.91</td>\n",
       "      <td>554.42</td>\n",
       "      <td>2388.08</td>\n",
       "      <td>9056.4</td>\n",
       "      <td>47.23</td>\n",
       "      <td>521.79</td>\n",
       "      <td>2388.06</td>\n",
       "      <td>8130.11</td>\n",
       "      <td>8.4024</td>\n",
       "      <td>393</td>\n",
       "      <td>38.81</td>\n",
       "      <td>23.3552</td>\n",
       "    </tr>\n",
       "  </tbody>\n",
       "</table>\n",
       "</div>"
      ],
      "text/plain": [
       "   engineNumber  cycleNumber  sensor2   sensor3  sensor4  sensor7  sensor8  \\\n",
       "0             1           31   642.58   1581.22  1398.91   554.42  2388.08   \n",
       "\n",
       "   sensor9  sensor11  sensor12  sensor13  sensor14  sensor15  sensor17  \\\n",
       "0   9056.4     47.23    521.79   2388.06   8130.11    8.4024       393   \n",
       "\n",
       "   sensor20  sensor21  \n",
       "0     38.81   23.3552  "
      ]
     },
     "execution_count": 17,
     "metadata": {},
     "output_type": "execute_result"
    }
   ],
   "source": [
    "import pandas as pd \n",
    "x_new = pd.DataFrame(input_data)\n",
    "x_new"
   ]
  },
  {
   "cell_type": "code",
   "execution_count": 18,
   "metadata": {},
   "outputs": [
    {
     "data": {
      "text/html": [
       "<div>\n",
       "<style scoped>\n",
       "    .dataframe tbody tr th:only-of-type {\n",
       "        vertical-align: middle;\n",
       "    }\n",
       "\n",
       "    .dataframe tbody tr th {\n",
       "        vertical-align: top;\n",
       "    }\n",
       "\n",
       "    .dataframe thead th {\n",
       "        text-align: right;\n",
       "    }\n",
       "</style>\n",
       "<table border=\"1\" class=\"dataframe\">\n",
       "  <thead>\n",
       "    <tr style=\"text-align: right;\">\n",
       "      <th></th>\n",
       "      <th>0</th>\n",
       "    </tr>\n",
       "  </thead>\n",
       "  <tbody>\n",
       "    <tr>\n",
       "      <th>0</th>\n",
       "      <td>1.0000</td>\n",
       "    </tr>\n",
       "    <tr>\n",
       "      <th>1</th>\n",
       "      <td>31.0000</td>\n",
       "    </tr>\n",
       "    <tr>\n",
       "      <th>2</th>\n",
       "      <td>642.5800</td>\n",
       "    </tr>\n",
       "    <tr>\n",
       "      <th>3</th>\n",
       "      <td>1581.2200</td>\n",
       "    </tr>\n",
       "    <tr>\n",
       "      <th>4</th>\n",
       "      <td>1398.9100</td>\n",
       "    </tr>\n",
       "    <tr>\n",
       "      <th>5</th>\n",
       "      <td>554.4200</td>\n",
       "    </tr>\n",
       "    <tr>\n",
       "      <th>6</th>\n",
       "      <td>2388.0800</td>\n",
       "    </tr>\n",
       "    <tr>\n",
       "      <th>7</th>\n",
       "      <td>9056.4000</td>\n",
       "    </tr>\n",
       "    <tr>\n",
       "      <th>8</th>\n",
       "      <td>47.2300</td>\n",
       "    </tr>\n",
       "    <tr>\n",
       "      <th>9</th>\n",
       "      <td>521.7900</td>\n",
       "    </tr>\n",
       "    <tr>\n",
       "      <th>10</th>\n",
       "      <td>2388.0600</td>\n",
       "    </tr>\n",
       "    <tr>\n",
       "      <th>11</th>\n",
       "      <td>8130.1100</td>\n",
       "    </tr>\n",
       "    <tr>\n",
       "      <th>12</th>\n",
       "      <td>8.4024</td>\n",
       "    </tr>\n",
       "    <tr>\n",
       "      <th>13</th>\n",
       "      <td>393.0000</td>\n",
       "    </tr>\n",
       "    <tr>\n",
       "      <th>14</th>\n",
       "      <td>38.8100</td>\n",
       "    </tr>\n",
       "    <tr>\n",
       "      <th>15</th>\n",
       "      <td>23.3552</td>\n",
       "    </tr>\n",
       "  </tbody>\n",
       "</table>\n",
       "</div>"
      ],
      "text/plain": [
       "            0\n",
       "0      1.0000\n",
       "1     31.0000\n",
       "2    642.5800\n",
       "3   1581.2200\n",
       "4   1398.9100\n",
       "5    554.4200\n",
       "6   2388.0800\n",
       "7   9056.4000\n",
       "8     47.2300\n",
       "9    521.7900\n",
       "10  2388.0600\n",
       "11  8130.1100\n",
       "12     8.4024\n",
       "13   393.0000\n",
       "14    38.8100\n",
       "15    23.3552"
      ]
     },
     "execution_count": 18,
     "metadata": {},
     "output_type": "execute_result"
    }
   ],
   "source": [
    "import pandas as pd \n",
    "pd.DataFrame(x_sample)"
   ]
  },
  {
   "cell_type": "code",
   "execution_count": 19,
   "metadata": {},
   "outputs": [],
   "source": [
    "from Turbofan.entity.Turbofan_predictor import TurbofanData,TurbofanPredictor "
   ]
  },
  {
   "cell_type": "code",
   "execution_count": 20,
   "metadata": {},
   "outputs": [],
   "source": [
    "turbofan_df = TurbofanData(\n",
    "        engineNumber = 1,\n",
    "        cycleNumber =  31,\n",
    "        sensor2 = 642.5800 ,\n",
    "        sensor3 = 1581.2200 ,\n",
    "        sensor4 = 1398.9100 , \n",
    "        sensor7 = 554.4200 ,\n",
    "        sensor8 = 2388.0800 , \n",
    "        sensor9 = 9056.4000 ,\n",
    "        sensor11 = 47.2300 ,\n",
    "        sensor12 = 521.7900 ,\n",
    "        sensor13 = 2388.0600 ,\n",
    "        sensor14 = 8130.1100 ,\n",
    "        sensor15 = 8.4024 ,\n",
    "        sensor17 = 393.0000 ,\n",
    "        sensor20 = 38.8100,\n",
    "        sensor21 = 23.3552 ,\n",
    ")"
   ]
  },
  {
   "cell_type": "code",
   "execution_count": 21,
   "metadata": {},
   "outputs": [],
   "source": [
    "turbofan_dict = turbofan_df.get_Turbofan_data_as_dict()\n",
    "x_new1 = turbofan_df.get_Turbofan_data_dataframe()"
   ]
  },
  {
   "cell_type": "code",
   "execution_count": 22,
   "metadata": {},
   "outputs": [
    {
     "data": {
      "text/html": [
       "<div>\n",
       "<style scoped>\n",
       "    .dataframe tbody tr th:only-of-type {\n",
       "        vertical-align: middle;\n",
       "    }\n",
       "\n",
       "    .dataframe tbody tr th {\n",
       "        vertical-align: top;\n",
       "    }\n",
       "\n",
       "    .dataframe thead th {\n",
       "        text-align: right;\n",
       "    }\n",
       "</style>\n",
       "<table border=\"1\" class=\"dataframe\">\n",
       "  <thead>\n",
       "    <tr style=\"text-align: right;\">\n",
       "      <th></th>\n",
       "      <th>engineNumber</th>\n",
       "      <th>cycleNumber</th>\n",
       "      <th>sensor2</th>\n",
       "      <th>sensor3</th>\n",
       "      <th>sensor4</th>\n",
       "      <th>sensor7</th>\n",
       "      <th>sensor8</th>\n",
       "      <th>sensor9</th>\n",
       "      <th>sensor11</th>\n",
       "      <th>sensor12</th>\n",
       "      <th>sensor13</th>\n",
       "      <th>sensor14</th>\n",
       "      <th>sensor15</th>\n",
       "      <th>sensor17</th>\n",
       "      <th>sensor20</th>\n",
       "      <th>sensor21</th>\n",
       "    </tr>\n",
       "  </thead>\n",
       "  <tbody>\n",
       "    <tr>\n",
       "      <th>0</th>\n",
       "      <td>1</td>\n",
       "      <td>31</td>\n",
       "      <td>642.58</td>\n",
       "      <td>1581.22</td>\n",
       "      <td>1398.91</td>\n",
       "      <td>554.42</td>\n",
       "      <td>2388.08</td>\n",
       "      <td>9056.4</td>\n",
       "      <td>47.23</td>\n",
       "      <td>521.79</td>\n",
       "      <td>2388.06</td>\n",
       "      <td>8130.11</td>\n",
       "      <td>8.4024</td>\n",
       "      <td>393.0</td>\n",
       "      <td>38.81</td>\n",
       "      <td>23.3552</td>\n",
       "    </tr>\n",
       "  </tbody>\n",
       "</table>\n",
       "</div>"
      ],
      "text/plain": [
       "   engineNumber  cycleNumber  sensor2   sensor3  sensor4  sensor7  sensor8  \\\n",
       "0             1           31   642.58   1581.22  1398.91   554.42  2388.08   \n",
       "\n",
       "   sensor9  sensor11  sensor12  sensor13  sensor14  sensor15  sensor17  \\\n",
       "0   9056.4     47.23    521.79   2388.06   8130.11    8.4024     393.0   \n",
       "\n",
       "   sensor20  sensor21  \n",
       "0     38.81   23.3552  "
      ]
     },
     "execution_count": 22,
     "metadata": {},
     "output_type": "execute_result"
    }
   ],
   "source": [
    "x_new1"
   ]
  },
  {
   "cell_type": "code",
   "execution_count": 23,
   "metadata": {},
   "outputs": [
    {
     "data": {
      "text/plain": [
       "{'engineNumber': (1,),\n",
       " 'cycleNumber': (31,),\n",
       " 'sensor2': (642.58,),\n",
       " ' sensor3': (1581.22,),\n",
       " 'sensor4': (1398.91,),\n",
       " 'sensor7': (554.42,),\n",
       " 'sensor8': (2388.08,),\n",
       " 'sensor9': (9056.4,),\n",
       " 'sensor11': (47.23,),\n",
       " 'sensor12': (521.79,),\n",
       " 'sensor13': (2388.06,),\n",
       " 'sensor14': (8130.11,),\n",
       " 'sensor15': (8.4024,),\n",
       " 'sensor17': (393.0,),\n",
       " 'sensor20': (38.81,),\n",
       " 'sensor21': (23.3552,)}"
      ]
     },
     "execution_count": 23,
     "metadata": {},
     "output_type": "execute_result"
    }
   ],
   "source": [
    "turbofan_dict"
   ]
  },
  {
   "cell_type": "code",
   "execution_count": 24,
   "metadata": {},
   "outputs": [
    {
     "name": "stderr",
     "output_type": "stream",
     "text": [
      "c:\\Users\\manev\\Desktop\\iNeuron\\ML_PROJECTS\\NASA-turbofan-ML-Project\\venv\\lib\\site-packages\\sklearn\\base.py:493: FutureWarning: The feature names should match those that were passed during fit. Starting version 1.2, an error will be raised.\n",
      "Feature names unseen at fit time:\n",
      "-  sensor3\n",
      "Feature names seen at fit time, yet now missing:\n",
      "- sensor3\n",
      "\n",
      "  warnings.warn(message, FutureWarning)\n"
     ]
    },
    {
     "data": {
      "text/plain": [
       "array([171.33070266])"
      ]
     },
     "execution_count": 24,
     "metadata": {},
     "output_type": "execute_result"
    }
   ],
   "source": [
    "Turbofan.predict(X=x_new1)"
   ]
  }
 ],
 "metadata": {
  "kernelspec": {
   "display_name": "Python 3.7.0",
   "language": "python",
   "name": "python3"
  },
  "language_info": {
   "codemirror_mode": {
    "name": "ipython",
    "version": 3
   },
   "file_extension": ".py",
   "mimetype": "text/x-python",
   "name": "python",
   "nbconvert_exporter": "python",
   "pygments_lexer": "ipython3",
   "version": "3.7.0"
  },
  "orig_nbformat": 4,
  "vscode": {
   "interpreter": {
    "hash": "baed427f196212bd7a6e9e0ca0502a23d177c904530679b6ace64c1f83f48e91"
   }
  }
 },
 "nbformat": 4,
 "nbformat_minor": 2
}
