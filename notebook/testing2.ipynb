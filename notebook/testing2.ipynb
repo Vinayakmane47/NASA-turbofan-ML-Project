{
 "cells": [
  {
   "cell_type": "code",
   "execution_count": 1,
   "metadata": {},
   "outputs": [
    {
     "data": {
      "text/plain": [
       "'c:\\\\Users\\\\manev\\\\Desktop\\\\iNeuron\\\\ML_PROJECTS\\\\NASA-turbofan-ML-Project\\\\notebook'"
      ]
     },
     "execution_count": 1,
     "metadata": {},
     "output_type": "execute_result"
    }
   ],
   "source": [
    "import os \n",
    "os.getcwd()"
   ]
  },
  {
   "cell_type": "code",
   "execution_count": 2,
   "metadata": {},
   "outputs": [],
   "source": [
    "os.chdir(\"c:\\\\Users\\\\manev\\\\Desktop\\\\iNeuron\\\\ML_PROJECTS\\\\NASA-turbofan-ML-Project\")"
   ]
  },
  {
   "cell_type": "code",
   "execution_count": 3,
   "metadata": {},
   "outputs": [
    {
     "data": {
      "text/plain": [
       "'c:\\\\Users\\\\manev\\\\Desktop\\\\iNeuron\\\\ML_PROJECTS\\\\NASA-turbofan-ML-Project'"
      ]
     },
     "execution_count": 3,
     "metadata": {},
     "output_type": "execute_result"
    }
   ],
   "source": [
    "os.getcwd()"
   ]
  },
  {
   "cell_type": "code",
   "execution_count": 4,
   "metadata": {},
   "outputs": [],
   "source": [
    "from Turbofan.config.configuration import Configuration \n",
    "from Turbofan.constant import *"
   ]
  },
  {
   "cell_type": "code",
   "execution_count": 5,
   "metadata": {},
   "outputs": [
    {
     "data": {
      "text/plain": [
       "'c:\\\\Users\\\\manev\\\\Desktop\\\\iNeuron\\\\ML_PROJECTS\\\\NASA-turbofan-ML-Project\\\\config\\\\config.yaml'"
      ]
     },
     "execution_count": 5,
     "metadata": {},
     "output_type": "execute_result"
    }
   ],
   "source": [
    "CONFIG_FILE_PATH"
   ]
  },
  {
   "cell_type": "code",
   "execution_count": 6,
   "metadata": {},
   "outputs": [],
   "source": [
    "config = Configuration(config_file_path=CONFIG_FILE_PATH , current_time_stamp=CURRENT_TIME_STAMP)"
   ]
  },
  {
   "cell_type": "code",
   "execution_count": 7,
   "metadata": {},
   "outputs": [],
   "source": [
    "from Turbofan.pipeline.pipeline import Pipeline"
   ]
  },
  {
   "cell_type": "code",
   "execution_count": 8,
   "metadata": {},
   "outputs": [],
   "source": [
    "pipeline = Pipeline(config=config)"
   ]
  },
  {
   "cell_type": "code",
   "execution_count": 9,
   "metadata": {},
   "outputs": [],
   "source": [
    "data_ingestion_artifact = pipeline.start_data_ingestion()\n",
    "data_validation_artifact = pipeline.start_data_validation(data_ingestion_artifact=data_ingestion_artifact)\n"
   ]
  },
  {
   "cell_type": "code",
   "execution_count": 10,
   "metadata": {},
   "outputs": [],
   "source": [
    "data_transformation_artifact = pipeline.start_data_transformation(data_validation_artifact= data_validation_artifact, \n",
    "                                       data_ingestion_artifact=data_ingestion_artifact )\n",
    "\n"
   ]
  },
  {
   "cell_type": "code",
   "execution_count": 11,
   "metadata": {},
   "outputs": [
    {
     "data": {
      "text/plain": [
       "DataTransformationArtifact(is_transformed=True, message='Data transformation successfull.', transformed_train_file_path='c:\\\\Users\\\\manev\\\\Desktop\\\\iNeuron\\\\ML_PROJECTS\\\\NASA-turbofan-ML-Project\\\\Turbofan\\\\artifact\\\\data_transformation\\\\2022-10-09-21-24-25\\\\train\\\\train_FD001.npz', transformed_test_file_path='c:\\\\Users\\\\manev\\\\Desktop\\\\iNeuron\\\\ML_PROJECTS\\\\NASA-turbofan-ML-Project\\\\Turbofan\\\\artifact\\\\data_transformation\\\\2022-10-09-21-24-25\\\\test\\\\test_FD001.npz', preprocessed_object_file_path='c:\\\\Users\\\\manev\\\\Desktop\\\\iNeuron\\\\ML_PROJECTS\\\\NASA-turbofan-ML-Project\\\\Turbofan\\\\artifact\\\\data_transformation\\\\2022-10-09-21-24-25\\\\preprocessed\\\\preprocced.pkl')"
      ]
     },
     "execution_count": 11,
     "metadata": {},
     "output_type": "execute_result"
    }
   ],
   "source": [
    "data_transformation_artifact"
   ]
  },
  {
   "cell_type": "code",
   "execution_count": 12,
   "metadata": {},
   "outputs": [
    {
     "name": "stdout",
     "output_type": "stream",
     "text": [
      "{'fit_intercept': True}\n",
      "{'kernel': 'linear'}\n",
      "{'cv': 5, 'verbose': 2}\n",
      "Fitting 5 folds for each of 2 candidates, totalling 10 fits\n",
      "[CV] END .................................fit_intercept=True; total time=   0.8s\n",
      "[CV] END .................................fit_intercept=True; total time=   0.0s\n",
      "[CV] END .................................fit_intercept=True; total time=   0.0s\n",
      "[CV] END .................................fit_intercept=True; total time=   0.0s\n",
      "[CV] END .................................fit_intercept=True; total time=   0.0s\n",
      "[CV] END ................................fit_intercept=False; total time=   0.0s\n",
      "[CV] END ................................fit_intercept=False; total time=   0.0s\n",
      "[CV] END ................................fit_intercept=False; total time=   0.0s\n",
      "[CV] END ................................fit_intercept=False; total time=   0.0s\n",
      "[CV] END ................................fit_intercept=False; total time=   0.0s\n",
      "{'cv': 5, 'verbose': 2}\n",
      "Fitting 5 folds for each of 4 candidates, totalling 20 fits\n",
      "[CV] END ............................degree=2, kernel=linear; total time=  43.4s\n",
      "[CV] END ............................degree=2, kernel=linear; total time=  28.0s\n",
      "[CV] END ............................degree=2, kernel=linear; total time=  27.5s\n",
      "[CV] END ............................degree=2, kernel=linear; total time=  27.3s\n",
      "[CV] END ............................degree=2, kernel=linear; total time=  28.9s\n",
      "[CV] END ..............................degree=2, kernel=poly; total time=  23.2s\n",
      "[CV] END ..............................degree=2, kernel=poly; total time=  29.3s\n",
      "[CV] END ..............................degree=2, kernel=poly; total time=  24.5s\n",
      "[CV] END ..............................degree=2, kernel=poly; total time=  24.9s\n",
      "[CV] END ..............................degree=2, kernel=poly; total time=  24.1s\n",
      "[CV] END ............................degree=3, kernel=linear; total time=  25.4s\n",
      "[CV] END ............................degree=3, kernel=linear; total time=  26.0s\n",
      "[CV] END ............................degree=3, kernel=linear; total time=  25.4s\n",
      "[CV] END ............................degree=3, kernel=linear; total time=  27.5s\n",
      "[CV] END ............................degree=3, kernel=linear; total time=  29.1s\n",
      "[CV] END ..............................degree=3, kernel=poly; total time=  31.1s\n",
      "[CV] END ..............................degree=3, kernel=poly; total time=  27.4s\n",
      "[CV] END ..............................degree=3, kernel=poly; total time=  28.0s\n",
      "[CV] END ..............................degree=3, kernel=poly; total time=  28.1s\n",
      "[CV] END ..............................degree=3, kernel=poly; total time=  28.1s\n"
     ]
    }
   ],
   "source": [
    "model_trainer_artifact = pipeline.start_model_trainer(data_transformation_artifact=data_transformation_artifact)"
   ]
  },
  {
   "cell_type": "code",
   "execution_count": 13,
   "metadata": {},
   "outputs": [
    {
     "data": {
      "text/plain": [
       "ModelTrainerArtifact(is_trained=True, message='Model Trained Succesfully ', trained_model_file_path='c:\\\\Users\\\\manev\\\\Desktop\\\\iNeuron\\\\ML_PROJECTS\\\\NASA-turbofan-ML-Project\\\\Turbofan\\\\artifact\\\\model_trainer\\\\2022-10-09-21-24-25\\\\trained_model\\\\model.pkl', train_rmse=36.65129622063291, test_rmse=24.955212336258057, train_accuracy=0.7168601711223339, test_accuracy=0.6393690509418162, model_accuracy=0.675900798791069)"
      ]
     },
     "execution_count": 13,
     "metadata": {},
     "output_type": "execute_result"
    }
   ],
   "source": [
    "model_trainer_artifact"
   ]
  },
  {
   "cell_type": "code",
   "execution_count": null,
   "metadata": {},
   "outputs": [],
   "source": []
  },
  {
   "cell_type": "code",
   "execution_count": 14,
   "metadata": {},
   "outputs": [],
   "source": [
    "model_eval_file_path = config.get_model_evaluation_config().model_evaluation_file_path"
   ]
  },
  {
   "cell_type": "code",
   "execution_count": 15,
   "metadata": {},
   "outputs": [],
   "source": [
    "model_evaluation_artifact = pipeline.start_model_evaluation(data_ingestion_artifact=data_ingestion_artifact,\n",
    "                                                            data_validation_artifact=data_validation_artifact, \n",
    "                                                            model_trainer_artifcat=model_trainer_artifact)\n",
    "                                                            "
   ]
  },
  {
   "cell_type": "code",
   "execution_count": 16,
   "metadata": {},
   "outputs": [],
   "source": [
    "model_pusher_artifact = pipeline.start_model_pusher(model_evaluation_artifact=model_evaluation_artifact)"
   ]
  },
  {
   "cell_type": "code",
   "execution_count": 17,
   "metadata": {},
   "outputs": [
    {
     "data": {
      "text/plain": [
       "'c:\\\\Users\\\\manev\\\\Desktop\\\\iNeuron\\\\ML_PROJECTS\\\\NASA-turbofan-ML-Project\\\\Turbofan\\\\artifact\\\\data_transformation\\\\2022-10-09-21-24-25\\\\train\\\\train_FD001.npz'"
      ]
     },
     "execution_count": 17,
     "metadata": {},
     "output_type": "execute_result"
    }
   ],
   "source": [
    "data_transformation_artifact.transformed_train_file_path"
   ]
  },
  {
   "cell_type": "code",
   "execution_count": 26,
   "metadata": {},
   "outputs": [
    {
     "data": {
      "text/plain": [
       "ModelEvaluationArtifact(is_model_accepted=True, evaluated_model_path='c:\\\\Users\\\\manev\\\\Desktop\\\\iNeuron\\\\ML_PROJECTS\\\\NASA-turbofan-ML-Project\\\\Turbofan\\\\artifact\\\\model_trainer\\\\2022-10-09-21-24-25\\\\trained_model\\\\model.pkl')"
      ]
     },
     "execution_count": 26,
     "metadata": {},
     "output_type": "execute_result"
    }
   ],
   "source": [
    "model_evaluation_artifact"
   ]
  },
  {
   "cell_type": "code",
   "execution_count": 18,
   "metadata": {},
   "outputs": [],
   "source": [
    "from Turbofan.util.util import read_yaml_file\n",
    "\n",
    "\n",
    "model_eval_content = read_yaml_file(file_path=model_eval_file_path)"
   ]
  },
  {
   "cell_type": "code",
   "execution_count": 19,
   "metadata": {},
   "outputs": [
    {
     "data": {
      "text/plain": [
       "'c:\\\\Users\\\\manev\\\\Desktop\\\\iNeuron\\\\ML_PROJECTS\\\\NASA-turbofan-ML-Project\\\\Turbofan\\\\artifact\\\\model_trainer\\\\2022-10-09-21-24-25\\\\trained_model\\\\model.pkl'"
      ]
     },
     "execution_count": 19,
     "metadata": {},
     "output_type": "execute_result"
    }
   ],
   "source": [
    "model_eval_content[BEST_MODEL_KEY][MODEL_PATH_KEY]"
   ]
  },
  {
   "cell_type": "code",
   "execution_count": 20,
   "metadata": {},
   "outputs": [],
   "source": [
    "from Turbofan.component.model_trainer import TurboPredictor\n",
    "from Turbofan.util.util import load_object\n",
    "\n",
    "\n",
    "model:TurboPredictor = load_object(model_eval_content[BEST_MODEL_KEY][MODEL_PATH_KEY])"
   ]
  },
  {
   "cell_type": "code",
   "execution_count": 21,
   "metadata": {},
   "outputs": [
    {
     "data": {
      "text/plain": [
       "Turbofan.component.model_trainer.TurboPredictor"
      ]
     },
     "execution_count": 21,
     "metadata": {},
     "output_type": "execute_result"
    }
   ],
   "source": [
    "type(model)"
   ]
  },
  {
   "cell_type": "code",
   "execution_count": 22,
   "metadata": {},
   "outputs": [
    {
     "data": {
      "text/plain": [
       "ModelPusherArtifact(is_model_pusher=True, export_model_file_path='c:\\\\Users\\\\manev\\\\Desktop\\\\iNeuron\\\\ML_PROJECTS\\\\NASA-turbofan-ML-Project\\\\saved_models\\\\20221009213853\\\\model.pkl')"
      ]
     },
     "execution_count": 22,
     "metadata": {},
     "output_type": "execute_result"
    }
   ],
   "source": [
    "model_pusher_artifact"
   ]
  },
  {
   "cell_type": "code",
   "execution_count": 9,
   "metadata": {},
   "outputs": [],
   "source": [
    "from Turbofan.pipeline.pipeline import Pipeline"
   ]
  },
  {
   "cell_type": "code",
   "execution_count": 29,
   "metadata": {},
   "outputs": [
    {
     "data": {
      "text/plain": [
       "'c:\\\\Users\\\\manev\\\\Desktop\\\\iNeuron\\\\ML_PROJECTS\\\\NASA-turbofan-ML-Project\\\\Turbofan\\\\artifact\\\\model_trainer\\\\2022-10-09-21-24-25\\\\trained_model\\\\model.pkl'"
      ]
     },
     "execution_count": 29,
     "metadata": {},
     "output_type": "execute_result"
    }
   ],
   "source": [
    "model_evaluation_artifact.evaluated_model_path"
   ]
  },
  {
   "cell_type": "code",
   "execution_count": 10,
   "metadata": {},
   "outputs": [
    {
     "name": "stdout",
     "output_type": "stream",
     "text": [
      "{'fit_intercept': True}\n",
      "{'kernel': 'linear'}\n",
      "{'cv': 5, 'verbose': 2}\n",
      "Fitting 5 folds for each of 2 candidates, totalling 10 fits\n",
      "[CV] END .................................fit_intercept=True; total time=   0.3s\n",
      "[CV] END .................................fit_intercept=True; total time=   0.0s\n",
      "[CV] END .................................fit_intercept=True; total time=   0.0s\n",
      "[CV] END .................................fit_intercept=True; total time=   0.0s\n",
      "[CV] END .................................fit_intercept=True; total time=   0.0s\n",
      "[CV] END ................................fit_intercept=False; total time=   0.0s\n",
      "[CV] END ................................fit_intercept=False; total time=   0.0s\n",
      "[CV] END ................................fit_intercept=False; total time=   0.0s\n",
      "[CV] END ................................fit_intercept=False; total time=   0.0s\n",
      "[CV] END ................................fit_intercept=False; total time=   0.0s\n",
      "{'cv': 5, 'verbose': 2}\n",
      "Fitting 5 folds for each of 4 candidates, totalling 20 fits\n",
      "[CV] END ............................degree=2, kernel=linear; total time=  43.3s\n",
      "[CV] END ............................degree=2, kernel=linear; total time=  27.7s\n",
      "[CV] END ............................degree=2, kernel=linear; total time=  27.7s\n",
      "[CV] END ............................degree=2, kernel=linear; total time=  28.8s\n",
      "[CV] END ............................degree=2, kernel=linear; total time=  28.2s\n",
      "[CV] END ..............................degree=2, kernel=poly; total time=  25.0s\n",
      "[CV] END ..............................degree=2, kernel=poly; total time=  24.7s\n",
      "[CV] END ..............................degree=2, kernel=poly; total time=  25.4s\n",
      "[CV] END ..............................degree=2, kernel=poly; total time=  25.7s\n",
      "[CV] END ..............................degree=2, kernel=poly; total time=  25.4s\n",
      "[CV] END ............................degree=3, kernel=linear; total time=  27.6s\n",
      "[CV] END ............................degree=3, kernel=linear; total time=  27.5s\n",
      "[CV] END ............................degree=3, kernel=linear; total time=  27.9s\n",
      "[CV] END ............................degree=3, kernel=linear; total time=  28.8s\n",
      "[CV] END ............................degree=3, kernel=linear; total time=  27.8s\n",
      "[CV] END ..............................degree=3, kernel=poly; total time=  28.6s\n",
      "[CV] END ..............................degree=3, kernel=poly; total time=  27.6s\n",
      "[CV] END ..............................degree=3, kernel=poly; total time=  29.2s\n",
      "[CV] END ..............................degree=3, kernel=poly; total time=  29.3s\n",
      "[CV] END ..............................degree=3, kernel=poly; total time=  28.8s\n"
     ]
    }
   ],
   "source": [
    "pipeline = Pipeline(config=config)\n",
    "experiment_artifact = pipeline.run()"
   ]
  },
  {
   "cell_type": "code",
   "execution_count": null,
   "metadata": {},
   "outputs": [],
   "source": [
    "experiment_artifact"
   ]
  },
  {
   "cell_type": "code",
   "execution_count": null,
   "metadata": {},
   "outputs": [],
   "source": []
  }
 ],
 "metadata": {
  "kernelspec": {
   "display_name": "Python 3.7.0",
   "language": "python",
   "name": "python3"
  },
  "language_info": {
   "codemirror_mode": {
    "name": "ipython",
    "version": 3
   },
   "file_extension": ".py",
   "mimetype": "text/x-python",
   "name": "python",
   "nbconvert_exporter": "python",
   "pygments_lexer": "ipython3",
   "version": "3.7.0"
  },
  "orig_nbformat": 4,
  "vscode": {
   "interpreter": {
    "hash": "baed427f196212bd7a6e9e0ca0502a23d177c904530679b6ace64c1f83f48e91"
   }
  }
 },
 "nbformat": 4,
 "nbformat_minor": 2
}
