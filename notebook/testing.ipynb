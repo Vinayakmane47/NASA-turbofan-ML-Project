{
 "cells": [
  {
   "cell_type": "code",
   "execution_count": 1,
   "metadata": {},
   "outputs": [
    {
     "data": {
      "text/plain": [
       "'c:\\\\Users\\\\manev\\\\Desktop\\\\iNeuron\\\\ML_PROJECTS\\\\NASA-turbofan-ML-Project\\\\notebook'"
      ]
     },
     "execution_count": 1,
     "metadata": {},
     "output_type": "execute_result"
    }
   ],
   "source": [
    "import os \n",
    "os.getcwd()"
   ]
  },
  {
   "cell_type": "code",
   "execution_count": 2,
   "metadata": {},
   "outputs": [],
   "source": [
    "os.chdir(\"c:\\\\Users\\\\manev\\\\Desktop\\\\iNeuron\\\\ML_PROJECTS\\\\NASA-turbofan-ML-Project\")"
   ]
  },
  {
   "cell_type": "code",
   "execution_count": 3,
   "metadata": {},
   "outputs": [
    {
     "data": {
      "text/plain": [
       "'c:\\\\Users\\\\manev\\\\Desktop\\\\iNeuron\\\\ML_PROJECTS\\\\NASA-turbofan-ML-Project'"
      ]
     },
     "execution_count": 3,
     "metadata": {},
     "output_type": "execute_result"
    }
   ],
   "source": [
    "os.getcwd()"
   ]
  },
  {
   "cell_type": "code",
   "execution_count": 4,
   "metadata": {},
   "outputs": [],
   "source": [
    "from Turbofan.config.configuration import Configuration\n",
    "from Turbofan.constant import * "
   ]
  },
  {
   "cell_type": "code",
   "execution_count": 5,
   "metadata": {},
   "outputs": [
    {
     "data": {
      "text/plain": [
       "'c:\\\\Users\\\\manev\\\\Desktop\\\\iNeuron\\\\ML_PROJECTS\\\\NASA-turbofan-ML-Project\\\\config\\\\config.yaml'"
      ]
     },
     "execution_count": 5,
     "metadata": {},
     "output_type": "execute_result"
    }
   ],
   "source": [
    "CONFIG_FILE_PATH"
   ]
  },
  {
   "cell_type": "code",
   "execution_count": 6,
   "metadata": {},
   "outputs": [
    {
     "data": {
      "text/plain": [
       "'2022-10-07-10-40-28'"
      ]
     },
     "execution_count": 6,
     "metadata": {},
     "output_type": "execute_result"
    }
   ],
   "source": [
    "CURRENT_TIME_STAMP"
   ]
  },
  {
   "cell_type": "code",
   "execution_count": 5,
   "metadata": {},
   "outputs": [],
   "source": [
    "config = Configuration(config_file_path=CONFIG_FILE_PATH ,current_time_stamp=CURRENT_TIME_STAMP)"
   ]
  },
  {
   "cell_type": "code",
   "execution_count": 8,
   "metadata": {},
   "outputs": [],
   "source": [
    "config_info = config.get_data_ingestion_config()"
   ]
  },
  {
   "cell_type": "code",
   "execution_count": 9,
   "metadata": {},
   "outputs": [
    {
     "data": {
      "text/plain": [
       "'c:\\\\Users\\\\manev\\\\Desktop\\\\iNeuron\\\\ML_PROJECTS\\\\NASA-turbofan-ML-Project\\\\Turbofan\\\\artifact\\\\data_ingestion\\\\2022-10-07-10-40-28\\\\ingested_data\\\\train'"
      ]
     },
     "execution_count": 9,
     "metadata": {},
     "output_type": "execute_result"
    }
   ],
   "source": [
    "config_info.ingested_train_dir"
   ]
  },
  {
   "cell_type": "code",
   "execution_count": 10,
   "metadata": {},
   "outputs": [
    {
     "data": {
      "text/plain": [
       "DataIngestionConfig(download_url_train='https://raw.githubusercontent.com/Vinayakmane47/NASA-turbofan-ML-Project/main/Proccessed_data/train_FD001.csv', download_url_test='https://raw.githubusercontent.com/Vinayakmane47/NASA-turbofan-ML-Project/main/Proccessed_data/test_FD001.csv', ingested_train_dir='c:\\\\Users\\\\manev\\\\Desktop\\\\iNeuron\\\\ML_PROJECTS\\\\NASA-turbofan-ML-Project\\\\Turbofan\\\\artifact\\\\data_ingestion\\\\2022-10-07-10-40-28\\\\ingested_data\\\\train', ingested_test_dir='c:\\\\Users\\\\manev\\\\Desktop\\\\iNeuron\\\\ML_PROJECTS\\\\NASA-turbofan-ML-Project\\\\Turbofan\\\\artifact\\\\data_ingestion\\\\2022-10-07-10-40-28\\\\ingested_data\\\\test')"
      ]
     },
     "execution_count": 10,
     "metadata": {},
     "output_type": "execute_result"
    }
   ],
   "source": [
    "config_info"
   ]
  },
  {
   "cell_type": "code",
   "execution_count": 11,
   "metadata": {},
   "outputs": [],
   "source": [
    "file_name = os.path.basename(config_info.download_url_train)"
   ]
  },
  {
   "cell_type": "code",
   "execution_count": 12,
   "metadata": {},
   "outputs": [
    {
     "data": {
      "text/plain": [
       "'c:\\\\Users\\\\manev\\\\Desktop\\\\iNeuron\\\\ML_PROJECTS\\\\NASA-turbofan-ML-Project\\\\Turbofan\\\\artifact\\\\data_ingestion\\\\2022-10-07-10-40-28\\\\ingested_data\\\\train\\\\train_FD001.csv'"
      ]
     },
     "execution_count": 12,
     "metadata": {},
     "output_type": "execute_result"
    }
   ],
   "source": [
    "os.path.join(config_info.ingested_train_dir,file_name)"
   ]
  },
  {
   "cell_type": "code",
   "execution_count": 13,
   "metadata": {},
   "outputs": [
    {
     "data": {
      "text/plain": [
       "'c:\\\\Users\\\\manev\\\\Desktop\\\\iNeuron\\\\ML_PROJECTS\\\\NASA-turbofan-ML-Project\\\\Turbofan\\\\artifact\\\\data_ingestion\\\\2022-10-07-10-40-28\\\\ingested_data\\\\train'"
      ]
     },
     "execution_count": 13,
     "metadata": {},
     "output_type": "execute_result"
    }
   ],
   "source": [
    "config_info.ingested_train_dir"
   ]
  },
  {
   "cell_type": "code",
   "execution_count": 14,
   "metadata": {},
   "outputs": [],
   "source": [
    "from Turbofan.component.data_ingestion import DataIngestion"
   ]
  },
  {
   "cell_type": "code",
   "execution_count": 15,
   "metadata": {},
   "outputs": [],
   "source": [
    "data_ingestion = DataIngestion(config_info)"
   ]
  },
  {
   "cell_type": "code",
   "execution_count": 16,
   "metadata": {},
   "outputs": [
    {
     "data": {
      "text/plain": [
       "DataIngestionArtifact(train_file_path='c:\\\\Users\\\\manev\\\\Desktop\\\\iNeuron\\\\ML_PROJECTS\\\\NASA-turbofan-ML-Project\\\\Turbofan\\\\artifact\\\\data_ingestion\\\\2022-10-07-10-40-28\\\\ingested_data\\\\train\\\\train_FD001.csv', test_file_path='c:\\\\Users\\\\manev\\\\Desktop\\\\iNeuron\\\\ML_PROJECTS\\\\NASA-turbofan-ML-Project\\\\Turbofan\\\\artifact\\\\data_ingestion\\\\2022-10-07-10-40-28\\\\ingested_data\\\\test\\\\test_FD001.csv', is_ingested=True, message='Data Ingestion Succesfull Completed')"
      ]
     },
     "execution_count": 16,
     "metadata": {},
     "output_type": "execute_result"
    }
   ],
   "source": [
    "data_ingestion.initiate_data_ingestion()"
   ]
  },
  {
   "cell_type": "code",
   "execution_count": 18,
   "metadata": {},
   "outputs": [],
   "source": [
    "from Turbofan.util.util import read_yaml_file\n",
    "schema_file_path = os.path.join(ROOT_DIR,'config/schema.yaml')"
   ]
  },
  {
   "cell_type": "code",
   "execution_count": 20,
   "metadata": {},
   "outputs": [],
   "source": [
    "schema_info = read_yaml_file(file_path=schema_file_path)"
   ]
  },
  {
   "cell_type": "code",
   "execution_count": 34,
   "metadata": {},
   "outputs": [
    {
     "data": {
      "text/plain": [
       "['RUL']"
      ]
     },
     "execution_count": 34,
     "metadata": {},
     "output_type": "execute_result"
    }
   ],
   "source": [
    "schema_info['target_columns']"
   ]
  },
  {
   "cell_type": "code",
   "execution_count": 6,
   "metadata": {},
   "outputs": [],
   "source": [
    "data_validation_info = config.get_data_validation_config()"
   ]
  },
  {
   "cell_type": "code",
   "execution_count": 9,
   "metadata": {},
   "outputs": [
    {
     "data": {
      "text/plain": [
       "DataValidationConfig(schema_file_path='c:\\\\Users\\\\manev\\\\Desktop\\\\iNeuron\\\\ML_PROJECTS\\\\NASA-turbofan-ML-Project\\\\config\\\\schema.yaml', report_file_path='c:\\\\Users\\\\manev\\\\Desktop\\\\iNeuron\\\\ML_PROJECTS\\\\NASA-turbofan-ML-Project\\\\Turbofan\\\\artifact\\\\data_validation\\\\2022-10-07-11-32-21\\\\report.json', report_page_file_path='c:\\\\Users\\\\manev\\\\Desktop\\\\iNeuron\\\\ML_PROJECTS\\\\NASA-turbofan-ML-Project\\\\Turbofan\\\\artifact\\\\data_validation\\\\2022-10-07-11-32-21\\\\report.html')"
      ]
     },
     "execution_count": 9,
     "metadata": {},
     "output_type": "execute_result"
    }
   ],
   "source": [
    "data_validation_info"
   ]
  },
  {
   "cell_type": "code",
   "execution_count": 12,
   "metadata": {},
   "outputs": [
    {
     "data": {
      "text/plain": [
       "'c:\\\\Users\\\\manev\\\\Desktop\\\\iNeuron\\\\ML_PROJECTS\\\\NASA-turbofan-ML-Project\\\\config\\\\schema.yaml'"
      ]
     },
     "execution_count": 12,
     "metadata": {},
     "output_type": "execute_result"
    }
   ],
   "source": [
    "data_validation_info.schema_file_path"
   ]
  },
  {
   "cell_type": "code",
   "execution_count": null,
   "metadata": {},
   "outputs": [],
   "source": []
  }
 ],
 "metadata": {
  "kernelspec": {
   "display_name": "Python 3.7.0",
   "language": "python",
   "name": "python3"
  },
  "language_info": {
   "codemirror_mode": {
    "name": "ipython",
    "version": 3
   },
   "file_extension": ".py",
   "mimetype": "text/x-python",
   "name": "python",
   "nbconvert_exporter": "python",
   "pygments_lexer": "ipython3",
   "version": "3.7.0"
  },
  "orig_nbformat": 4,
  "vscode": {
   "interpreter": {
    "hash": "baed427f196212bd7a6e9e0ca0502a23d177c904530679b6ace64c1f83f48e91"
   }
  }
 },
 "nbformat": 4,
 "nbformat_minor": 2
}
